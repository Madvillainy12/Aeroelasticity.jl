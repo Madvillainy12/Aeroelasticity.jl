{
 "cells": [
  {
   "cell_type": "markdown",
   "source": [
    "# Aeroelastic Analysis of a Highly Flexible Wing\n",
    "\n",
    "In this example, we demonstrate how to find steady state operating conditions for a\n",
    "highly flexible cantilever wing\n",
    "\n",
    "![](../assets/cantilever-wing.png)"
   ],
   "metadata": {}
  },
  {
   "cell_type": "markdown",
   "source": [
    "The wing we are considering in this example was created by modifying Daedalus aircraft\n",
    "data and is therefore representative of a high-altitude long-endurance wing. It has a\n",
    "16 meter span (from root to tip) and a 1 meter chord. To model the wing's aerodynamics,\n",
    "we use a lifting line model. To model the wing's structure, we use a geometrically exact\n",
    "beam theory model."
   ],
   "metadata": {}
  },
  {
   "outputs": [
    {
     "output_type": "execute_result",
     "data": {
      "text/plain": "4.0e6"
     },
     "metadata": {},
     "execution_count": 1
    }
   ],
   "cell_type": "code",
   "source": [
    "using Aeroelasticity, GXBeam, NLsolve, LineSearches, LinearAlgebra\n",
    "\n",
    "# --- Initial Setup --- #\n",
    "\n",
    "# discretization\n",
    "N = 8 # number of elements\n",
    "\n",
    "# geometric properties\n",
    "span = 16 # m\n",
    "chord = 1 # m\n",
    "xref = 0.5 # normalized reference location (from leading edge)\n",
    "xcg = 0.5 # center of gravity (from leading edge)\n",
    "\n",
    "# stiffness properties\n",
    "GJ = 1e4 # N*m^2 (torsional rigidity)\n",
    "EIyy = 2e4 # N*m^2 (flat bending rigidity)\n",
    "EIzz = 4e6 # N*m^2 (chord bending rigidity)"
   ],
   "metadata": {},
   "execution_count": 1
  },
  {
   "cell_type": "markdown",
   "source": [
    "inertial properties"
   ],
   "metadata": {}
  },
  {
   "outputs": [
    {
     "output_type": "execute_result",
     "data": {
      "text/plain": "GXBeam.Assembly{Float64, Vector{StaticArraysCore.SVector{3, Float64}}, UnitRange{Int64}, Vector{GXBeam.Element{Float64}}}(StaticArraysCore.SVector{3, Float64}[[0.0, 0.0, 0.0], [0.0, 2.0, 0.0], [0.0, 4.0, 0.0], [0.0, 6.0, 0.0], [0.0, 8.0, 0.0], [0.0, 10.0, 0.0], [0.0, 12.0, 0.0], [0.0, 14.0, 0.0], [0.0, 16.0, 0.0]], 1:8, 2:9, GXBeam.Element{Float64}[GXBeam.Element{Float64}(2.0, [0.0, 1.0, 0.0], [0.0 0.0 … 0.0 0.0; 0.0 0.0 … 0.0 0.0; … ; 0.0 0.0 … 5.0e-5 0.0; 0.0 0.0 … 0.0 2.5e-7], [0.75 0.0 … 0.0 0.0; 0.0 0.75 … 0.0 0.0; … ; 0.0 0.0 … 0.0375 0.0; 0.0 0.0 … 0.0 0.0625], [0.0 1.0 0.0; 1.0 0.0 0.0; 0.0 0.0 -1.0], [0.01, 0.01, 0.01, 0.01, 0.01, 0.01]), GXBeam.Element{Float64}(2.0, [0.0, 3.0, 0.0], [0.0 0.0 … 0.0 0.0; 0.0 0.0 … 0.0 0.0; … ; 0.0 0.0 … 5.0e-5 0.0; 0.0 0.0 … 0.0 2.5e-7], [0.75 0.0 … 0.0 0.0; 0.0 0.75 … 0.0 0.0; … ; 0.0 0.0 … 0.0375 0.0; 0.0 0.0 … 0.0 0.0625], [0.0 1.0 0.0; 1.0 0.0 0.0; 0.0 0.0 -1.0], [0.01, 0.01, 0.01, 0.01, 0.01, 0.01]), GXBeam.Element{Float64}(2.0, [0.0, 5.0, 0.0], [0.0 0.0 … 0.0 0.0; 0.0 0.0 … 0.0 0.0; … ; 0.0 0.0 … 5.0e-5 0.0; 0.0 0.0 … 0.0 2.5e-7], [0.75 0.0 … 0.0 0.0; 0.0 0.75 … 0.0 0.0; … ; 0.0 0.0 … 0.0375 0.0; 0.0 0.0 … 0.0 0.0625], [0.0 1.0 0.0; 1.0 0.0 0.0; 0.0 0.0 -1.0], [0.01, 0.01, 0.01, 0.01, 0.01, 0.01]), GXBeam.Element{Float64}(2.0, [0.0, 7.0, 0.0], [0.0 0.0 … 0.0 0.0; 0.0 0.0 … 0.0 0.0; … ; 0.0 0.0 … 5.0e-5 0.0; 0.0 0.0 … 0.0 2.5e-7], [0.75 0.0 … 0.0 0.0; 0.0 0.75 … 0.0 0.0; … ; 0.0 0.0 … 0.0375 0.0; 0.0 0.0 … 0.0 0.0625], [0.0 1.0 0.0; 1.0 0.0 0.0; 0.0 0.0 -1.0], [0.01, 0.01, 0.01, 0.01, 0.01, 0.01]), GXBeam.Element{Float64}(2.0, [0.0, 9.0, 0.0], [0.0 0.0 … 0.0 0.0; 0.0 0.0 … 0.0 0.0; … ; 0.0 0.0 … 5.0e-5 0.0; 0.0 0.0 … 0.0 2.5e-7], [0.75 0.0 … 0.0 0.0; 0.0 0.75 … 0.0 0.0; … ; 0.0 0.0 … 0.0375 0.0; 0.0 0.0 … 0.0 0.0625], [0.0 1.0 0.0; 1.0 0.0 0.0; 0.0 0.0 -1.0], [0.01, 0.01, 0.01, 0.01, 0.01, 0.01]), GXBeam.Element{Float64}(2.0, [0.0, 11.0, 0.0], [0.0 0.0 … 0.0 0.0; 0.0 0.0 … 0.0 0.0; … ; 0.0 0.0 … 5.0e-5 0.0; 0.0 0.0 … 0.0 2.5e-7], [0.75 0.0 … 0.0 0.0; 0.0 0.75 … 0.0 0.0; … ; 0.0 0.0 … 0.0375 0.0; 0.0 0.0 … 0.0 0.0625], [0.0 1.0 0.0; 1.0 0.0 0.0; 0.0 0.0 -1.0], [0.01, 0.01, 0.01, 0.01, 0.01, 0.01]), GXBeam.Element{Float64}(2.0, [0.0, 13.0, 0.0], [0.0 0.0 … 0.0 0.0; 0.0 0.0 … 0.0 0.0; … ; 0.0 0.0 … 5.0e-5 0.0; 0.0 0.0 … 0.0 2.5e-7], [0.75 0.0 … 0.0 0.0; 0.0 0.75 … 0.0 0.0; … ; 0.0 0.0 … 0.0375 0.0; 0.0 0.0 … 0.0 0.0625], [0.0 1.0 0.0; 1.0 0.0 0.0; 0.0 0.0 -1.0], [0.01, 0.01, 0.01, 0.01, 0.01, 0.01]), GXBeam.Element{Float64}(2.0, [0.0, 15.0, 0.0], [0.0 0.0 … 0.0 0.0; 0.0 0.0 … 0.0 0.0; … ; 0.0 0.0 … 5.0e-5 0.0; 0.0 0.0 … 0.0 2.5e-7], [0.75 0.0 … 0.0 0.0; 0.0 0.75 … 0.0 0.0; … ; 0.0 0.0 … 0.0375 0.0; 0.0 0.0 … 0.0 0.0625], [0.0 1.0 0.0; 1.0 0.0 0.0; 0.0 0.0 -1.0], [0.01, 0.01, 0.01, 0.01, 0.01, 0.01])])"
     },
     "metadata": {},
     "execution_count": 2
    }
   ],
   "cell_type": "code",
   "source": [
    "mu = 0.75 # kg/m (mass per unit length)\n",
    "i11 = 0.1 # kg*m (moment of inertia about elastic axis)\n",
    "i22 = 0.0375 # moment of inertia about beam y-axis\n",
    "i33 = 0.0625 # moment of inertia about beam z-axis\n",
    "\n",
    "# freestream properties\n",
    "Vinf = 25.0 # m/s (velocity)\n",
    "rho = 0.0889 # kg/m^3 (air density)\n",
    "c = 343 # m/s (air speed of sound)\n",
    "alpha = 10*pi/180 # angle of attack\n",
    "\n",
    "# aerodynamic section properties\n",
    "a = xref - 0.5 # normalized reference location (relative to semi-chord)\n",
    "b = chord / 2 # m (semi-chord)\n",
    "a0 = 2*pi # lift slope (for each section)\n",
    "alpha0 = 0.0 # zero lift angle of attack (for each section)\n",
    "cd0 = 0.01\n",
    "cm0 = 0\n",
    "\n",
    "# define geometry (assume NED coordinate frame)\n",
    "xpt = range(0, 0, length=N+1) # point x-coordinates (in body frame)\n",
    "ypt = range(0, span, length=N+1) # point y-coordinates (in body frame)\n",
    "zpt = range(0, 0, length=N+1) # point z-coordinates (in body frame)\n",
    "points = [[xpt[i],ypt[i],zpt[i]] for i = 1:N+1]\n",
    "start = 1:N # starting point of each beam element\n",
    "stop = 2:N+1 # ending point of each beam element\n",
    "e1 = [0, 1,  0] # beam x-axis\n",
    "e2 = [1, 0,  0] # beam y-axis\n",
    "e3 = [0, 0, -1] # beam z-axis\n",
    "frames = fill([e1 e2 e3], N) # local to body frame transformation\n",
    "compliance = fill(Diagonal([0, 0, 0, 1/GJ, 1/EIyy, 1/EIzz]), N) # compliance matrix\n",
    "mass = fill(Diagonal([mu, mu, mu, i11, i22, i33]), N) # mass matrix\n",
    "assembly = GXBeam.Assembly(points, start, stop; frames, compliance, mass)\n",
    "\n",
    "prescribed_conditions = Dict(\n",
    "    # fixed left edge\n",
    "    1 => GXBeam.PrescribedConditions(ux=0, uy=0, uz=0, theta_x=0, theta_y=0, theta_z=0),\n",
    ")\n",
    "\n",
    "# define GXBeam system\n",
    "system = DynamicSystem(assembly)\n",
    "\n",
    "# --- Define Submodels --- #\n",
    "\n",
    "# construct section models\n",
    "section_models = fill(Peters{6}(), N)\n",
    "\n",
    "# construct aerodynamic model\n",
    "aerodynamic_model = LiftingLine(section_models)\n",
    "\n",
    "# construct structural model\n",
    "structural_model = GXBeamAssembly(system; structural_damping=false)\n",
    "\n",
    "# define submodels\n",
    "submodels = (aerodynamic_model, structural_model)\n",
    "\n",
    "# --- Define Initial Parameters --- #\n",
    "\n",
    "V = [-Vinf*cos(alpha), 0.0, -Vinf*sin(alpha)] # m/s (freestream velocity)\n",
    "\n",
    "# define parameters for each lifting line section\n",
    "section_parameters = fill([a, b, a0, alpha0, cd0, cm0], N)\n",
    "\n",
    "# define parameters for the lifting line model\n",
    "liftingline_parameters = LiftingLineParameters(section_parameters)\n",
    "\n",
    "# define parameters for the geometrically exact beam theory model\n",
    "gxbeam_parameters = GXBeamParameters(assembly)"
   ],
   "metadata": {},
   "execution_count": 2
  },
  {
   "cell_type": "markdown",
   "source": [
    "define parameters for the coupling"
   ],
   "metadata": {}
  },
  {
   "outputs": [
    {
     "output_type": "execute_result",
     "data": {
      "text/plain": "2-element Vector{SubArray{Float64, 1, Vector{Float64}, Tuple{UnitRange{Int64}}, true}}:\n [0.0, 0.0, 0.0, 0.0, 0.0, 0.0, 0.0, 0.0, 0.0, 0.0  …  0.0, 0.0, 0.0, 0.0, 0.0, 0.0, 0.0, 0.0, 0.0, 0.0]\n [-0.23797715920396614, 0.8529836040681635, 0.9847477889446166, 9.874668049278153, 0.33744547586379237, 1.818386648556154, 0.0, 0.0, 0.0, 0.0  …  -7.989898311864483, -0.731913977694146, 0.03418047073302253, -0.012656127153785805, 0.0, 0.0, 0.0, 0.0, 0.0, 0.0]"
     },
     "metadata": {},
     "execution_count": 3
    }
   ],
   "cell_type": "code",
   "source": [
    "coupling_parameters = LiftingLineGXBeamParameters(V, rho, c;\n",
    "    prescribed_conditions = prescribed_conditions,\n",
    "    gravity = [0, 0, 9.81])\n",
    "\n",
    "# combine parameters\n",
    "parameters = (liftingline_parameters, gxbeam_parameters, coupling_parameters)\n",
    "\n",
    "# --- Define Coupled Model --- #\n",
    "\n",
    "model = CoupledModel(submodels, parameters; symbolic=false)\n",
    "\n",
    "# --- Perform Analysis --- #\n",
    "\n",
    "# state rates equal to zero\n",
    "dx = zeros(number_of_states(model))\n",
    "\n",
    "# use previously defined parameters\n",
    "p = parameters\n",
    "\n",
    "# set time to zero\n",
    "t = 0.0\n",
    "\n",
    "# define residual function\n",
    "f! = (resid, x) -> residual!(resid, model, dx, x, p, t)\n",
    "\n",
    "# define jacobian function\n",
    "j! = (jacob, x) -> state_jacobian!(jacob, model, dx, x, p, t)\n",
    "\n",
    "# define initial guess\n",
    "x0 = zeros(number_of_states(model))\n",
    "\n",
    "# find steady state operating conditions\n",
    "result = nlsolve(f!, j!, x0; method=:newton, linesearch=LineSearches.BackTracking())\n",
    "\n",
    "# separate state variables into aerodynamic and structural states\n",
    "λ, x = separate_states(result.zero, model)"
   ],
   "metadata": {},
   "execution_count": 3
  },
  {
   "cell_type": "markdown",
   "source": [
    "post-process the structural state"
   ],
   "metadata": {}
  },
  {
   "outputs": [
    {
     "output_type": "execute_result",
     "data": {
      "text/plain": "GXBeam.AssemblyState{Float64, Vector{GXBeam.PointState{Float64}}, Vector{GXBeam.ElementState{Float64}}}(GXBeam.PointState{Float64}[GXBeam.PointState{Float64}([0.0, 0.0, 0.0], [0.0, 0.0, 0.0], [0.0, 0.0, 0.0], [0.0, 0.0, 0.0], [0.0, 0.0, 0.0], [NaN, NaN, NaN], [0.0, 0.0, 0.0], [NaN, NaN, NaN], [-60.92215275621533, 218.36380264144987, 252.09543396982184], [2527.915020615207, 86.38604182113085, 465.5069820303754]), GXBeam.PointState{Float64}([0.0006700168846491691, -0.012950118428316436, -0.22722746142671174], [NaN, NaN, NaN], [-0.22778183547680864, -0.00821303970456331, -0.00020357503772767664], [NaN, NaN, NaN], [0.0, 0.0, 0.0], [NaN, NaN, NaN], [0.0, 0.0, 0.0], [NaN, NaN, NaN], [0.0, 0.0, 0.0], [0.0, 0.0, 0.0]), GXBeam.PointState{Float64}([0.004380149056143645, -0.11234393114191367, -0.8498688958005183], [NaN, NaN, NaN], [-0.4067199041956149, -0.005176696986671884, -0.0014397918849863157], [NaN, NaN, NaN], [0.0, 0.0, 0.0], [NaN, NaN, NaN], [0.0, 0.0, 0.0], [NaN, NaN, NaN], [0.0, 0.0, 0.0], [0.0, 0.0, 0.0]), GXBeam.PointState{Float64}([0.009681285367454866, -0.3300751405171179, -1.7573323143540123], [NaN, NaN, NaN], [-0.5395577474471008, 0.003158649765822374, -0.0036038879699488075], [NaN, NaN, NaN], [0.0, 0.0, 0.0], [NaN, NaN, NaN], [0.0, 0.0, 0.0], [NaN, NaN, NaN], [0.0, 0.0, 0.0], [0.0, 0.0, 0.0]), GXBeam.PointState{Float64}([0.014362391682995222, -0.6585194825037866, -2.8554578853113783], [NaN, NaN, NaN], [-0.6311548411501309, 0.012957313803006021, -0.006206854477482562], [NaN, NaN, NaN], [0.0, 0.0, 0.0], [NaN, NaN, NaN], [0.0, 0.0, 0.0], [NaN, NaN, NaN], [0.0, 0.0, 0.0], [0.0, 0.0, 0.0]), GXBeam.PointState{Float64}([0.017253722634290005, -1.070895509920428, -4.071780935392656], [NaN, NaN, NaN], [-0.6880429534046435, 0.021876103000295508, -0.00873876664515968], [NaN, NaN, NaN], [0.0, 0.0, 0.0], [NaN, NaN, NaN], [0.0, 0.0, 0.0], [NaN, NaN, NaN], [0.0, 0.0, 0.0], [0.0, 0.0, 0.0]), GXBeam.PointState{Float64}([0.018365460998465085, -1.5360007563400087, -5.354004340192023], [NaN, NaN, NaN], [-0.7179885570195502, 0.028664078323921253, -0.010812929712739483], [NaN, NaN, NaN], [0.0, 0.0, 0.0], [NaN, NaN, NaN], [0.0, 0.0, 0.0], [NaN, NaN, NaN], [0.0, 0.0, 0.0], [0.0, 0.0, 0.0]), GXBeam.PointState{Float64}([0.018356380512020203, -2.0272387375769183, -6.666877971217242], [NaN, NaN, NaN], [-0.7295870517306678, 0.03280329404005914, -0.012176307424404726], [NaN, NaN, NaN], [0.0, 0.0, 0.0], [NaN, NaN, NaN], [0.0, 0.0, 0.0], [NaN, NaN, NaN], [0.0, 0.0, 0.0], [0.0, 0.0, 0.0]), GXBeam.PointState{Float64}([0.0179139458697889, -2.527366415382348, -7.989898311864483], [NaN, NaN, NaN], [-0.731913977694146, 0.03418047073302253, -0.012656127153785805], [NaN, NaN, NaN], [0.0, 0.0, 0.0], [NaN, NaN, NaN], [0.0, 0.0, 0.0], [NaN, NaN, NaN], [0.0, 0.0, 0.0], [0.0, 0.0, 0.0])], GXBeam.ElementState{Float64}[GXBeam.ElementState{Float64}([0.00033500844232458454, -0.006475059214158218, -0.11361373071335587], [NaN, NaN, NaN], [-0.11389091773840432, -0.004106519852281655, -0.00010178751886383832], [NaN, NaN, NaN], [0.0, 0.0, 0.0], [NaN, NaN, NaN], [0.0, 0.0, 0.0], [NaN, NaN, NaN], [-187.45205887854704, 55.142659667632536, 253.84394937410266], [-41.03189084698613, -2275.9708333094623, 406.81983907145764]), GXBeam.ElementState{Float64}([0.002525082970396407, -0.06264702478511505, -0.538548178613615], [NaN, NaN, NaN], [-0.31725086983621176, -0.006694868345617597, -0.0008216834613569961], [NaN, NaN, NaN], [0.0, 0.0, 0.0], [NaN, NaN, NaN], [0.0, 0.0, 0.0], [NaN, NaN, NaN], [-133.72311681205588, 45.685365051100796, 244.797159878469], [15.268827672242974, -1778.2254866584929, 303.4505800020633]), GXBeam.ElementState{Float64}([0.007030717211799256, -0.22120953582951577, -1.3036006050772653], [NaN, NaN, NaN], [-0.47313882582135786, -0.0010090236104247547, -0.0025218399274675616], [NaN, NaN, NaN], [0.0, 0.0, 0.0], [NaN, NaN, NaN], [0.0, 0.0, 0.0], [NaN, NaN, NaN], [-92.02310577930666, 38.97076772272137, 221.7943081964395], [41.60390868776108, -1310.1585329601003, 223.15523976100516]), GXBeam.ElementState{Float64}([0.012021838525225044, -0.4942973115104522, -2.306395099832695], [NaN, NaN, NaN], [-0.5853562942986159, 0.008057981784414197, -0.004905371223715684], [NaN, NaN, NaN], [0.0, 0.0, 0.0], [NaN, NaN, NaN], [0.0, 0.0, 0.0], [NaN, NaN, NaN], [-61.90492091667694, 33.12348157020972, 189.73732752823614], [48.787684547346416, -896.9460846913182, 155.9106663204083]), GXBeam.ElementState{Float64}([0.015808057158642613, -0.8647074962121073, -3.4636194103520173], [NaN, NaN, NaN], [-0.6595988972773872, 0.017416708401650764, -0.0074728105613211205], [NaN, NaN, NaN], [0.0, 0.0, 0.0], [NaN, NaN, NaN], [0.0, 0.0, 0.0], [NaN, NaN, NaN], [-40.97020630326897, 27.027278562220854, 152.02533513077907], [44.45071828781038, -554.02836059962, 98.9627338816095]), GXBeam.ElementState{Float64}([0.017809591816377545, -1.3034481331302183, -4.71289263779234], [NaN, NaN, NaN], [-0.7030157552120968, 0.02527009066210838, -0.009775848178949581], [NaN, NaN, NaN], [0.0, 0.0, 0.0], [NaN, NaN, NaN], [0.0, 0.0, 0.0], [NaN, NaN, NaN], [-26.2152259261481, 20.181435244273924, 110.76663232293602], [34.00271289671185, -290.6685775991298, 53.2451747693992]), GXBeam.ElementState{Float64}([0.018360920755242642, -1.7816197469584636, -6.010441155704632], [NaN, NaN, NaN], [-0.723787804375109, 0.030733686181990197, -0.011494618568572104], [NaN, NaN, NaN], [0.0, 0.0, 0.0], [NaN, NaN, NaN], [0.0, 0.0, 0.0], [NaN, NaN, NaN], [-14.868291044365746, 12.517210225000172, 67.28629004884289], [20.91952640330482, -112.43363753077419, 20.979008749428203]), GXBeam.ElementState{Float64}([0.018135163190904552, -2.277302576479633, -7.328388141540863], [NaN, NaN, NaN], [-0.7307505147124069, 0.033491882386540835, -0.012416217289095265], [NaN, NaN, NaN], [0.0, 0.0, 0.0], [NaN, NaN, NaN], [0.0, 0.0, 0.0], [NaN, NaN, NaN], [-4.867061087666233, 4.246656890388234, 22.56188502745267], [7.01905192324933, -22.56188502710286, 4.246656893339343])])"
     },
     "metadata": {},
     "execution_count": 4
    }
   ],
   "cell_type": "code",
   "source": [
    "state = AssemblyState(x, system, assembly; prescribed_conditions)"
   ],
   "metadata": {},
   "execution_count": 4
  },
  {
   "cell_type": "markdown",
   "source": [
    "visualize the result"
   ],
   "metadata": {}
  },
  {
   "outputs": [],
   "cell_type": "code",
   "source": [
    "write_vtk(\"cantilever-steady\", assembly, state)"
   ],
   "metadata": {},
   "execution_count": 5
  },
  {
   "cell_type": "markdown",
   "source": [
    "---\n",
    "\n",
    "*This notebook was generated using [Literate.jl](https://github.com/fredrikekre/Literate.jl).*"
   ],
   "metadata": {}
  }
 ],
 "nbformat_minor": 3,
 "metadata": {
  "language_info": {
   "file_extension": ".jl",
   "mimetype": "application/julia",
   "name": "julia",
   "version": "1.8.5"
  },
  "kernelspec": {
   "name": "julia-1.8",
   "display_name": "Julia 1.8.5",
   "language": "julia"
  }
 },
 "nbformat": 4
}
